{
  "cells": [
    {
      "cell_type": "markdown",
      "metadata": {
        "id": "zUkzYwq8_SRT"
      },
      "source": [
        "防災アプリAdventCalender2024 24日目の記事で作成した深発地震の予測モデル"
      ]
    },
    {
      "cell_type": "markdown",
      "metadata": {
        "id": "n_bmNsKL_SRU"
      },
      "source": [
        "### 事前準備\n",
        "\n",
        "1. リポジトリから学習用パッケージをインストール\n",
        "2. 簡易版学習用データ、予測地点データを用意"
      ]
    },
    {
      "cell_type": "code",
      "execution_count": null,
      "metadata": {
        "id": "d0XCGRhF_SRU"
      },
      "outputs": [],
      "source": [
        "%pip install git+https://github.com/kotoho7/asid-predict"
      ]
    },
    {
      "cell_type": "code",
      "execution_count": null,
      "metadata": {
        "id": "oglmMGnK_SRV"
      },
      "outputs": [],
      "source": [
        "!mkdir -p ./data ./out\n",
        "!wget https://gist.githubusercontent.com/kotoho7/e1388671e5f990585e921f640b708872/raw/train_data_sample.json -O ./data/train_data.json\n",
        "!wget https://gist.githubusercontent.com/kotoho7/e1388671e5f990585e921f640b708872/raw/kik.json -O ./data/predict.json"
      ]
    },
    {
      "cell_type": "markdown",
      "metadata": {
        "id": "oEh11TV8_SRV"
      },
      "source": [
        "### モデルの学習"
      ]
    },
    {
      "cell_type": "code",
      "execution_count": null,
      "metadata": {
        "id": "ZMZ_HkE__SRV"
      },
      "outputs": [],
      "source": [
        "from asid_predict import execute_training_process\n",
        "\n",
        "# モデルの学習\n",
        "model = execute_training_process(\n",
        "    train_json_path=\"./data/train_data.json\", # 学習用データのパス\n",
        "    save_path=\"./out\", # モデルの保存先\n",
        "    target_is_pasific_plate=True, # 太平洋プレートの地震を学習\n",
        "    epochs=20, # エポック数\n",
        "    batch_size=64, # バッチサイズ\n",
        ")"
      ]
    },
    {
      "cell_type": "markdown",
      "metadata": {
        "id": "pXv01Eur_SRV"
      },
      "source": [
        "### 学習済みモデルを使って予想震度を計算"
      ]
    },
    {
      "cell_type": "code",
      "execution_count": null,
      "metadata": {
        "id": "H8tT8ZYO_SRW"
      },
      "outputs": [],
      "source": [
        "import json\n",
        "\n",
        "from asid_predict.prediction import predict_intensities\n",
        "from asid_predict.dataclass import Earthquake, ObservationPoint\n",
        "\n",
        "# 予測地点リスト\n",
        "with open(\"./data/predict.json\") as f:\n",
        "    dict = json.load(f)\n",
        "    stations = [ObservationPoint(**d) for d in dict]\n",
        "\n",
        "# 震源情報\n",
        "earthquake = Earthquake(\n",
        "    lat=33.840,\n",
        "    lon=137.423,\n",
        "    depth=362,\n",
        "    magnitude=6.4,\n",
        ")\n",
        "\n",
        "# 予測を実行\n",
        "intensities = predict_intensities(\n",
        "    model=model,\n",
        "    targets=stations,\n",
        "    eq=earthquake,\n",
        ")"
      ]
    },
    {
      "cell_type": "markdown",
      "metadata": {
        "id": "rqpYLrR2_SRW"
      },
      "source": [
        "### 予測結果の表示"
      ]
    },
    {
      "cell_type": "code",
      "execution_count": null,
      "metadata": {
        "id": "0UBSMUnI_SRW"
      },
      "outputs": [],
      "source": [
        "import numpy as np\n",
        "import matplotlib.pyplot as plt\n",
        "\n",
        "x, y, c = np.array([s.lon for s in stations]), np.array([s.lat for s in stations]), np.array(intensities)\n",
        "sorted_indices = np.argsort(c)\n",
        "\n",
        "# 散布図を作成\n",
        "plt.scatter(x[sorted_indices], y[sorted_indices], c=c[sorted_indices], cmap=\"jet\", vmin=-3, vmax=7)\n",
        "plt.colorbar(label=\"Seismic Intensity\")\n",
        "plt.scatter(earthquake.lon, earthquake.lat, color=\"red\", marker=\"*\", s=200, label=\"Epicenter\")\n",
        "plt.title(f\"Earthquake at ({earthquake.lat}, {earthquake.lon}), Depth: {earthquake.depth} km, Magnitude: {earthquake.magnitude}\")\n",
        "plt.xlim(128, 146)\n",
        "plt.ylim(30, 46)\n",
        "plt.legend()\n",
        "plt.show()"
      ]
    }
  ],
  "metadata": {
    "kernelspec": {
      "display_name": "Python 3",
      "name": "python3"
    },
    "language_info": {
      "name": "python"
    },
    "colab": {
      "provenance": [],
      "collapsed_sections": [
        "n_bmNsKL_SRU"
      ],
      "gpuType": "T4"
    },
    "accelerator": "GPU"
  },
  "nbformat": 4,
  "nbformat_minor": 0
}